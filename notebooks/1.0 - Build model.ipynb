{
 "cells": [
  {
   "cell_type": "markdown",
   "id": "b21391ff-c6c3-4d52-a10b-49282e043230",
   "metadata": {},
   "source": [
    "# Imports"
   ]
  },
  {
   "cell_type": "code",
   "execution_count": 1,
   "id": "b8ce7a02-a64c-4dfe-8cf6-f4d46e12fe56",
   "metadata": {},
   "outputs": [],
   "source": [
    "import os\n",
    "import sys\n",
    "import zipfile\n",
    "import copy\n",
    "\n",
    "import pandas as pd\n",
    "import numpy as np\n",
    "import spacy\n",
    "from tqdm import tqdm"
   ]
  },
  {
   "cell_type": "code",
   "execution_count": 2,
   "id": "3ec4f850-0d39-4963-9773-2f255c7dbbb4",
   "metadata": {},
   "outputs": [],
   "source": [
    "from sklearn.preprocessing import LabelEncoder\n",
    "from sklearn.model_selection import train_test_split\n",
    "from sklearn.metrics import accuracy_score\n",
    "from keras.preprocessing.text import Tokenizer\n",
    "from keras.preprocessing.sequence import pad_sequences\n",
    "from keras.utils import to_categorical\n",
    "\n",
    "\n",
    "from keras.layers import Input, Dense, Flatten,Activation\n",
    "from keras.layers import Conv1D, MaxPooling1D,Dropout,LSTM\n",
    "from keras.layers import Embedding\n",
    "from keras.models import Model\n",
    "\n",
    "from numpy import zeros\n",
    "from numpy import asarray\n",
    "\n",
    "from keras.preprocessing.text import Tokenizer\n",
    "\n",
    "from keras.preprocessing.sequence import pad_sequences\n",
    "\n",
    "from keras.models import Sequential\n",
    "\n",
    "from keras.layers import Dense\n",
    "from keras.layers import Flatten\n",
    "\n",
    "from keras.layers.embeddings import Embedding\n",
    "import tensorflow"
   ]
  },
  {
   "cell_type": "code",
   "execution_count": 3,
   "id": "a14324ee-28c9-4d56-8bb6-99fdfffe5670",
   "metadata": {},
   "outputs": [],
   "source": [
    "PROJECT_PATH = '/tf/DailyDialog-topic-recommendations/'"
   ]
  },
  {
   "cell_type": "code",
   "execution_count": 4,
   "id": "663af0cd-12fb-444b-bb57-a773968e6591",
   "metadata": {},
   "outputs": [],
   "source": [
    "sys.path.append(os.path.join(PROJECT_PATH, 'src'))"
   ]
  },
  {
   "cell_type": "code",
   "execution_count": 5,
   "id": "bcc6102c-fcd0-49c7-b2a3-1e2277ba5b2f",
   "metadata": {},
   "outputs": [],
   "source": [
    "from data.utils import download"
   ]
  },
  {
   "cell_type": "code",
   "execution_count": null,
   "id": "f24af95d-b353-4176-86ea-dd26e9b17caf",
   "metadata": {},
   "outputs": [],
   "source": []
  },
  {
   "cell_type": "markdown",
   "id": "166fbcb1-bfcc-4770-b0c2-8c2e6db5dc0a",
   "metadata": {},
   "source": [
    "# Load data"
   ]
  },
  {
   "cell_type": "code",
   "execution_count": 6,
   "id": "cc4a3db9-a2d7-42c4-95c6-cda3038f26c0",
   "metadata": {},
   "outputs": [],
   "source": [
    "df = pd.read_csv('../data/processed/lda_results.csv', index_col=0)"
   ]
  },
  {
   "cell_type": "code",
   "execution_count": 7,
   "id": "81d13c7e-2a31-416f-b94b-c06c6c2035b6",
   "metadata": {},
   "outputs": [
    {
     "data": {
      "text/html": [
       "<div>\n",
       "<style scoped>\n",
       "    .dataframe tbody tr th:only-of-type {\n",
       "        vertical-align: middle;\n",
       "    }\n",
       "\n",
       "    .dataframe tbody tr th {\n",
       "        vertical-align: top;\n",
       "    }\n",
       "\n",
       "    .dataframe thead th {\n",
       "        text-align: right;\n",
       "    }\n",
       "</style>\n",
       "<table border=\"1\" class=\"dataframe\">\n",
       "  <thead>\n",
       "    <tr style=\"text-align: right;\">\n",
       "      <th></th>\n",
       "      <th>corpus</th>\n",
       "      <th>label</th>\n",
       "    </tr>\n",
       "  </thead>\n",
       "  <tbody>\n",
       "    <tr>\n",
       "      <th>10</th>\n",
       "      <td>What kind of food do you like ?   I like Chine...</td>\n",
       "      <td>3</td>\n",
       "    </tr>\n",
       "    <tr>\n",
       "      <th>69</th>\n",
       "      <td>I passed all the tests , Mom .   Well done !</td>\n",
       "      <td>3</td>\n",
       "    </tr>\n",
       "  </tbody>\n",
       "</table>\n",
       "</div>"
      ],
      "text/plain": [
       "                                               corpus  label\n",
       "10  What kind of food do you like ?   I like Chine...      3\n",
       "69     I passed all the tests , Mom .   Well done !        3"
      ]
     },
     "execution_count": 7,
     "metadata": {},
     "output_type": "execute_result"
    }
   ],
   "source": [
    "df.head(2)"
   ]
  },
  {
   "cell_type": "code",
   "execution_count": 8,
   "id": "26e936a6-def3-4fb6-82d0-7afeb53c1851",
   "metadata": {},
   "outputs": [],
   "source": [
    "# load stop list for chunks phrases\n",
    "\n",
    "bdf_nc = pd.read_csv('../data/processed/stoplist.csv', index_col=0)"
   ]
  },
  {
   "cell_type": "code",
   "execution_count": 9,
   "id": "35d85a88-f8a1-4ab4-bd8f-591135f5c562",
   "metadata": {},
   "outputs": [
    {
     "data": {
      "text/html": [
       "<div>\n",
       "<style scoped>\n",
       "    .dataframe tbody tr th:only-of-type {\n",
       "        vertical-align: middle;\n",
       "    }\n",
       "\n",
       "    .dataframe tbody tr th {\n",
       "        vertical-align: top;\n",
       "    }\n",
       "\n",
       "    .dataframe thead th {\n",
       "        text-align: right;\n",
       "    }\n",
       "</style>\n",
       "<table border=\"1\" class=\"dataframe\">\n",
       "  <thead>\n",
       "    <tr style=\"text-align: right;\">\n",
       "      <th></th>\n",
       "      <th>index</th>\n",
       "      <th>word_count</th>\n",
       "    </tr>\n",
       "  </thead>\n",
       "  <tbody>\n",
       "    <tr>\n",
       "      <th>0</th>\n",
       "      <td>i</td>\n",
       "      <td>52433</td>\n",
       "    </tr>\n",
       "    <tr>\n",
       "      <th>1</th>\n",
       "      <td>you</td>\n",
       "      <td>47824</td>\n",
       "    </tr>\n",
       "  </tbody>\n",
       "</table>\n",
       "</div>"
      ],
      "text/plain": [
       "  index  word_count\n",
       "0     i       52433\n",
       "1   you       47824"
      ]
     },
     "execution_count": 9,
     "metadata": {},
     "output_type": "execute_result"
    }
   ],
   "source": [
    "bdf_nc.head(2)"
   ]
  },
  {
   "cell_type": "markdown",
   "id": "349b61a5-bab8-40b6-a466-438621c74a92",
   "metadata": {},
   "source": [
    "The original task is \"про топик рекомендейшон\n",
    "Взять датасет daily dailogs (http://yanran.li/dailydialog.html), выделить в нем с помощью spacy noun chunks фразы-объекты, отфильтровать слишком частотные (не характеризующие тему диалога). Далее обучить модельку, которая предсказывает следующую сущность в диалоге, которую можно обсудить. В связи с большой вариативностью возможных сущностей, рекомендуется взять только часть диалогов по определенной теме (например, выделить с помощью ключевых слов).\""
   ]
  },
  {
   "cell_type": "markdown",
   "id": "debe9302-ad9f-41b7-ab0e-1893c9982509",
   "metadata": {},
   "source": [
    "let's perform the decomposition of the problem\n",
    "- cluster dialogs and highlight one topic - done\n",
    "- to build a generative model for predicting the trace of an entity in a conversation"
   ]
  },
  {
   "cell_type": "markdown",
   "id": "8ad2b4e6-1c0c-443d-9f4e-143ce5c845da",
   "metadata": {},
   "source": [
    "how do I understand the task:\n",
    "there are several noun chunks in our text and I should to predict the following\n",
    "\n",
    "\n",
    "на русском:\n",
    "в нашем тексте есть несколько noun chunks и я должен предсказать следующую"
   ]
  },
  {
   "cell_type": "markdown",
   "id": "9645063a-3eda-401b-be11-da19acd46655",
   "metadata": {},
   "source": [
    "# Build model"
   ]
  },
  {
   "cell_type": "markdown",
   "id": "48b9abf1-5c40-4198-9d04-ce24fc5dd2ee",
   "metadata": {},
   "source": [
    "let's try to train the simplest model that will teach sequences of nouns from texts"
   ]
  },
  {
   "cell_type": "markdown",
   "id": "7d68b52b-59e6-42f2-9dea-93109a4589bd",
   "metadata": {},
   "source": [
    "let's extract all the sequences from the texts"
   ]
  },
  {
   "cell_type": "code",
   "execution_count": 10,
   "id": "c5231491-d909-4cda-ba5d-98d150339ddb",
   "metadata": {},
   "outputs": [],
   "source": [
    "parser = spacy.load('en_core_web_sm')"
   ]
  },
  {
   "cell_type": "code",
   "execution_count": 11,
   "id": "51c76fce-7110-4071-adaf-f33c33963888",
   "metadata": {},
   "outputs": [
    {
     "name": "stderr",
     "output_type": "stream",
     "text": [
      "2242it [00:34, 64.21it/s]\n"
     ]
    }
   ],
   "source": [
    "corpus_nc = dict()\n",
    "\n",
    "for i, dialog in tqdm(enumerate(df.corpus.tolist())):\n",
    "    document = parser(dialog)\n",
    "    corpus_nc[i] = list()\n",
    "    for nc in document.noun_chunks:\n",
    "        if nc not in bdf_nc['index']:\n",
    "            corpus_nc[i].append(nc)\n",
    "    \n",
    "    corpus_nc[i] = [word.text.lower() for word in corpus_nc[i]]\n",
    "    corpus_nc[i] = ['BEGIN'] + corpus_nc[i] + ['END']"
   ]
  },
  {
   "cell_type": "code",
   "execution_count": 12,
   "id": "69c64536-f261-408d-96d6-f6e1bd043619",
   "metadata": {},
   "outputs": [
    {
     "data": {
      "text/plain": [
       "['BEGIN',\n",
       " 'what kind',\n",
       " 'food',\n",
       " 'you',\n",
       " 'i',\n",
       " 'chinese food',\n",
       " 'your american',\n",
       " 'we',\n",
       " 'a lot',\n",
       " 'chinese restaurants',\n",
       " 'america',\n",
       " 'END']"
      ]
     },
     "execution_count": 12,
     "metadata": {},
     "output_type": "execute_result"
    }
   ],
   "source": [
    "corpus_nc[0]"
   ]
  },
  {
   "cell_type": "code",
   "execution_count": 13,
   "id": "43a510e7-fea2-4578-bb45-a1f1f5e137c8",
   "metadata": {},
   "outputs": [],
   "source": [
    "max_len = 0\n",
    "for sent in corpus_nc:\n",
    "    if len(corpus_nc[sent]) > max_len:\n",
    "        max_len = len(corpus_nc[sent])"
   ]
  },
  {
   "cell_type": "code",
   "execution_count": 14,
   "id": "97806221-b321-429e-bcaf-9f9eb0a0a264",
   "metadata": {},
   "outputs": [
    {
     "data": {
      "text/plain": [
       "228"
      ]
     },
     "execution_count": 14,
     "metadata": {},
     "output_type": "execute_result"
    }
   ],
   "source": [
    "max_len"
   ]
  },
  {
   "cell_type": "code",
   "execution_count": 15,
   "id": "a82edeff-c16e-40cd-8b5a-4f972d87b62c",
   "metadata": {},
   "outputs": [],
   "source": [
    "new_sentences = list()\n",
    "\n",
    "for sent in corpus_nc:\n",
    "    new_sentences.append(corpus_nc[sent])"
   ]
  },
  {
   "cell_type": "code",
   "execution_count": null,
   "id": "e36a1d4c-36e4-45ee-9105-8f222ae4a5b2",
   "metadata": {},
   "outputs": [],
   "source": []
  },
  {
   "cell_type": "code",
   "execution_count": 16,
   "id": "8cc1979b-245a-4cc1-91d9-842d75e54095",
   "metadata": {},
   "outputs": [],
   "source": [
    "generated_sentences = list()\n",
    "target_of_generated_sentences = list()\n",
    "for i, sent in enumerate(new_sentences):\n",
    "    for j in range(len(sent)-1):\n",
    "        if j == 0:\n",
    "            generated_sentences.append(sent[j])\n",
    "        else:\n",
    "            generated_sentences.append(sent[:j+1])\n",
    "        target_of_generated_sentences.append(sent[j+1])"
   ]
  },
  {
   "cell_type": "code",
   "execution_count": 17,
   "id": "cd36ef51-f8a4-415f-b8ff-911af0499413",
   "metadata": {},
   "outputs": [
    {
     "data": {
      "text/plain": [
       "['BEGIN',\n",
       " ['BEGIN', 'what kind'],\n",
       " ['BEGIN', 'what kind', 'food'],\n",
       " ['BEGIN', 'what kind', 'food', 'you'],\n",
       " ['BEGIN', 'what kind', 'food', 'you', 'i']]"
      ]
     },
     "execution_count": 17,
     "metadata": {},
     "output_type": "execute_result"
    }
   ],
   "source": [
    "generated_sentences[:5]"
   ]
  },
  {
   "cell_type": "code",
   "execution_count": 18,
   "id": "02fae110-b152-4d41-8a8b-a4722a11f2ce",
   "metadata": {},
   "outputs": [],
   "source": [
    "# nice"
   ]
  },
  {
   "cell_type": "code",
   "execution_count": 19,
   "id": "11bbec1f-1764-4a2e-8e49-08138bc3d12c",
   "metadata": {},
   "outputs": [],
   "source": [
    "tokenizer = Tokenizer()\n",
    "tokenizer.fit_on_texts(generated_sentences)\n",
    "\n",
    "vocab_size = len(tokenizer.word_index) + 1\n",
    "word_index = tokenizer.word_index"
   ]
  },
  {
   "cell_type": "code",
   "execution_count": 20,
   "id": "27fbab50-a142-4341-ae7b-ef9ae736f5b2",
   "metadata": {},
   "outputs": [],
   "source": [
    "encoded_docs = tokenizer.texts_to_sequences(generated_sentences)"
   ]
  },
  {
   "cell_type": "code",
   "execution_count": 21,
   "id": "a84477bd-c95d-4bfa-a6bf-2f3116b2a745",
   "metadata": {},
   "outputs": [
    {
     "data": {
      "text/plain": [
       "[[4], [4, 18], [4, 18, 148], [4, 18, 148, 2], [4, 18, 148, 2, 1]]"
      ]
     },
     "execution_count": 21,
     "metadata": {},
     "output_type": "execute_result"
    }
   ],
   "source": [
    "encoded_docs[:5]"
   ]
  },
  {
   "cell_type": "code",
   "execution_count": 22,
   "id": "7d1fa6f5-05c2-4b08-8eda-724fd18a3c93",
   "metadata": {},
   "outputs": [],
   "source": [
    "padded_docs = pad_sequences(encoded_docs, maxlen=max_len, padding='post')"
   ]
  },
  {
   "cell_type": "code",
   "execution_count": 23,
   "id": "abe95470-bc1d-4d57-ba1e-000c0d33b892",
   "metadata": {},
   "outputs": [
    {
     "data": {
      "text/plain": [
       "73806"
      ]
     },
     "execution_count": 23,
     "metadata": {},
     "output_type": "execute_result"
    }
   ],
   "source": [
    "len(padded_docs)"
   ]
  },
  {
   "cell_type": "code",
   "execution_count": 24,
   "id": "e1ca4651-36c2-477c-a9fa-913cab69f758",
   "metadata": {},
   "outputs": [],
   "source": [
    "le = LabelEncoder()\n",
    "target_of_generated_sentences = le.fit_transform(target_of_generated_sentences)"
   ]
  },
  {
   "cell_type": "code",
   "execution_count": 25,
   "id": "690b287c-4606-4040-87da-f14b6e48b609",
   "metadata": {},
   "outputs": [],
   "source": [
    "different_labels = len(pd.unique(target_of_generated_sentences))"
   ]
  },
  {
   "cell_type": "code",
   "execution_count": 26,
   "id": "41e1a9bc-d05c-42f0-942a-95249ab6515d",
   "metadata": {},
   "outputs": [
    {
     "data": {
      "text/plain": [
       "18017"
      ]
     },
     "execution_count": 26,
     "metadata": {},
     "output_type": "execute_result"
    }
   ],
   "source": [
    "different_labels"
   ]
  },
  {
   "cell_type": "code",
   "execution_count": 27,
   "id": "hawaiian-nebraska",
   "metadata": {},
   "outputs": [],
   "source": [
    "X_train, X_test, y_train, y_test = train_test_split(padded_docs, target_of_generated_sentences, test_size=0.3)"
   ]
  },
  {
   "cell_type": "code",
   "execution_count": 28,
   "id": "209e3b16-cb0b-4860-8d3c-784710f7946a",
   "metadata": {},
   "outputs": [
    {
     "name": "stdout",
     "output_type": "stream",
     "text": [
      "Model: \"model\"\n",
      "_________________________________________________________________\n",
      "Layer (type)                 Output Shape              Param #   \n",
      "=================================================================\n",
      "input_1 (InputLayer)         [(None, 228)]             0         \n",
      "_________________________________________________________________\n",
      "embedding (Embedding)        (None, 228, 50)           900900    \n",
      "_________________________________________________________________\n",
      "conv1d (Conv1D)              (None, 219, 1024)         513024    \n",
      "_________________________________________________________________\n",
      "max_pooling1d (MaxPooling1D) (None, 109, 1024)         0         \n",
      "_________________________________________________________________\n",
      "conv1d_1 (Conv1D)            (None, 105, 512)          2621952   \n",
      "_________________________________________________________________\n",
      "max_pooling1d_1 (MaxPooling1 (None, 52, 512)           0         \n",
      "_________________________________________________________________\n",
      "conv1d_2 (Conv1D)            (None, 50, 256)           393472    \n",
      "_________________________________________________________________\n",
      "max_pooling1d_2 (MaxPooling1 (None, 12, 256)           0         \n",
      "_________________________________________________________________\n",
      "flatten (Flatten)            (None, 3072)              0         \n",
      "_________________________________________________________________\n",
      "dense (Dense)                (None, 36034)             110732482 \n",
      "_________________________________________________________________\n",
      "dense_1 (Dense)              (None, 18017)             649242595 \n",
      "=================================================================\n",
      "Total params: 764,404,425\n",
      "Trainable params: 764,404,425\n",
      "Non-trainable params: 0\n",
      "_________________________________________________________________\n",
      "None\n",
      "Epoch 1/55\n",
      "26/26 [==============================] - 54s 1s/step - loss: 8.6842 - accuracy: 0.0849\n",
      "Epoch 2/55\n",
      "26/26 [==============================] - 17s 643ms/step - loss: 6.7661 - accuracy: 0.1203\n",
      "Epoch 3/55\n",
      "26/26 [==============================] - 17s 645ms/step - loss: 6.5661 - accuracy: 0.1321\n",
      "Epoch 4/55\n",
      "26/26 [==============================] - 17s 644ms/step - loss: 6.5446 - accuracy: 0.1297\n",
      "Epoch 5/55\n",
      "26/26 [==============================] - 17s 643ms/step - loss: 6.4472 - accuracy: 0.1384\n",
      "Epoch 6/55\n",
      "26/26 [==============================] - 17s 643ms/step - loss: 6.3018 - accuracy: 0.1378\n",
      "Epoch 7/55\n",
      "26/26 [==============================] - 17s 643ms/step - loss: 6.0036 - accuracy: 0.1379\n",
      "Epoch 8/55\n",
      "26/26 [==============================] - 17s 644ms/step - loss: 5.7499 - accuracy: 0.1431\n",
      "Epoch 9/55\n",
      "26/26 [==============================] - 17s 645ms/step - loss: 5.4433 - accuracy: 0.1480\n",
      "Epoch 10/55\n",
      "26/26 [==============================] - 17s 645ms/step - loss: 5.1461 - accuracy: 0.1568\n",
      "Epoch 11/55\n",
      "26/26 [==============================] - 17s 645ms/step - loss: 4.8216 - accuracy: 0.1643\n",
      "Epoch 12/55\n",
      "26/26 [==============================] - 17s 645ms/step - loss: 4.5358 - accuracy: 0.1783\n",
      "Epoch 13/55\n",
      "26/26 [==============================] - 17s 645ms/step - loss: 4.2293 - accuracy: 0.1957\n",
      "Epoch 14/55\n",
      "26/26 [==============================] - 17s 644ms/step - loss: 3.9314 - accuracy: 0.2215\n",
      "Epoch 15/55\n",
      "26/26 [==============================] - 17s 644ms/step - loss: 3.6414 - accuracy: 0.2527\n",
      "Epoch 16/55\n",
      "26/26 [==============================] - 17s 644ms/step - loss: 3.3881 - accuracy: 0.2775\n",
      "Epoch 17/55\n",
      "26/26 [==============================] - 17s 644ms/step - loss: 3.1212 - accuracy: 0.3176\n",
      "Epoch 18/55\n",
      "26/26 [==============================] - 17s 644ms/step - loss: 2.8736 - accuracy: 0.3516\n",
      "Epoch 19/55\n",
      "26/26 [==============================] - 17s 644ms/step - loss: 2.6498 - accuracy: 0.4005\n",
      "Epoch 20/55\n",
      "26/26 [==============================] - 17s 643ms/step - loss: 2.4576 - accuracy: 0.4317\n",
      "Epoch 21/55\n",
      "26/26 [==============================] - 17s 644ms/step - loss: 2.2609 - accuracy: 0.4734\n",
      "Epoch 22/55\n",
      "26/26 [==============================] - 17s 643ms/step - loss: 2.1085 - accuracy: 0.5029\n",
      "Epoch 23/55\n",
      "26/26 [==============================] - 17s 643ms/step - loss: 1.8783 - accuracy: 0.5550\n",
      "Epoch 24/55\n",
      "26/26 [==============================] - 17s 644ms/step - loss: 1.7074 - accuracy: 0.5953\n",
      "Epoch 25/55\n",
      "26/26 [==============================] - 17s 643ms/step - loss: 1.5848 - accuracy: 0.6216\n",
      "Epoch 26/55\n",
      "26/26 [==============================] - 17s 643ms/step - loss: 1.4758 - accuracy: 0.6441\n",
      "Epoch 27/55\n",
      "26/26 [==============================] - 17s 644ms/step - loss: 1.3627 - accuracy: 0.6715\n",
      "Epoch 28/55\n",
      "26/26 [==============================] - 17s 644ms/step - loss: 1.2234 - accuracy: 0.7076\n",
      "Epoch 29/55\n",
      "26/26 [==============================] - 17s 644ms/step - loss: 1.1438 - accuracy: 0.7244\n",
      "Epoch 30/55\n",
      "26/26 [==============================] - 17s 643ms/step - loss: 1.0389 - accuracy: 0.7531\n",
      "Epoch 31/55\n",
      "26/26 [==============================] - 17s 643ms/step - loss: 0.9821 - accuracy: 0.7629\n",
      "Epoch 32/55\n",
      "26/26 [==============================] - 17s 643ms/step - loss: 0.9275 - accuracy: 0.7792\n",
      "Epoch 33/55\n",
      "26/26 [==============================] - 17s 643ms/step - loss: 0.8837 - accuracy: 0.7891\n",
      "Epoch 34/55\n",
      "26/26 [==============================] - 17s 643ms/step - loss: 0.8050 - accuracy: 0.8065\n",
      "Epoch 35/55\n",
      "26/26 [==============================] - 17s 643ms/step - loss: 0.7654 - accuracy: 0.8191\n",
      "Epoch 36/55\n",
      "26/26 [==============================] - 17s 643ms/step - loss: 0.7485 - accuracy: 0.8205\n",
      "Epoch 37/55\n",
      "26/26 [==============================] - 17s 642ms/step - loss: 0.7014 - accuracy: 0.8312\n",
      "Epoch 38/55\n",
      "26/26 [==============================] - 17s 642ms/step - loss: 0.6545 - accuracy: 0.8454\n",
      "Epoch 39/55\n",
      "26/26 [==============================] - 17s 643ms/step - loss: 0.6176 - accuracy: 0.8546\n",
      "Epoch 40/55\n",
      "26/26 [==============================] - 17s 643ms/step - loss: 0.5963 - accuracy: 0.8612\n",
      "Epoch 41/55\n",
      "26/26 [==============================] - 17s 643ms/step - loss: 0.5658 - accuracy: 0.8700\n",
      "Epoch 42/55\n",
      "26/26 [==============================] - 17s 643ms/step - loss: 0.5333 - accuracy: 0.8777\n",
      "Epoch 43/55\n",
      "26/26 [==============================] - 17s 642ms/step - loss: 0.5107 - accuracy: 0.8845\n",
      "Epoch 44/55\n",
      "26/26 [==============================] - 17s 642ms/step - loss: 0.4900 - accuracy: 0.8899\n",
      "Epoch 45/55\n",
      "26/26 [==============================] - 17s 643ms/step - loss: 0.4919 - accuracy: 0.8857\n",
      "Epoch 46/55\n",
      "26/26 [==============================] - 17s 642ms/step - loss: 0.5064 - accuracy: 0.8851\n",
      "Epoch 47/55\n",
      "26/26 [==============================] - 17s 642ms/step - loss: 0.4734 - accuracy: 0.8937\n",
      "Epoch 48/55\n",
      "26/26 [==============================] - 17s 643ms/step - loss: 0.4393 - accuracy: 0.9007\n",
      "Epoch 49/55\n",
      "26/26 [==============================] - 17s 643ms/step - loss: 0.4559 - accuracy: 0.8973\n",
      "Epoch 50/55\n",
      "26/26 [==============================] - 17s 642ms/step - loss: 0.4446 - accuracy: 0.9014\n",
      "Epoch 51/55\n",
      "26/26 [==============================] - 17s 643ms/step - loss: 0.4343 - accuracy: 0.9039\n",
      "Epoch 52/55\n",
      "26/26 [==============================] - 17s 643ms/step - loss: 0.4261 - accuracy: 0.9054\n",
      "Epoch 53/55\n",
      "26/26 [==============================] - 17s 642ms/step - loss: 0.3964 - accuracy: 0.9134\n",
      "Epoch 54/55\n",
      "26/26 [==============================] - 17s 643ms/step - loss: 0.3919 - accuracy: 0.9135\n",
      "Epoch 55/55\n",
      "26/26 [==============================] - 17s 642ms/step - loss: 0.3847 - accuracy: 0.9159\n"
     ]
    },
    {
     "data": {
      "text/plain": [
       "<tensorflow.python.keras.callbacks.History at 0x7fdc3c41e4a8>"
      ]
     },
     "execution_count": 28,
     "metadata": {},
     "output_type": "execute_result"
    }
   ],
   "source": [
    "model = Sequential()\n",
    "embedding_layer = Embedding(vocab_size, 50, input_length=max_len)\n",
    "sequence_input = Input(shape=(max_len,), dtype='int32')\n",
    "embedded_sequences = embedding_layer(sequence_input)\n",
    "x = Conv1D(1024, 10, activation='relu')(embedded_sequences)\n",
    "x = MaxPooling1D(2)(x)\n",
    "x = Conv1D(512, 5, activation='relu')(x)\n",
    "x = MaxPooling1D(2)(x)\n",
    "x = Conv1D(256, 3, activation='relu')(x)\n",
    "x = MaxPooling1D(4)(x)\n",
    "x = Flatten()(x)\n",
    "x = Dense(different_labels*2, activation='relu')(x)\n",
    "preds = Dense(different_labels, activation='softmax')(x)\n",
    "\n",
    "model = Model(sequence_input, preds)\n",
    "\n",
    "model.compile(optimizer='adam', loss='sparse_categorical_crossentropy', metrics=['accuracy'])\n",
    "\n",
    "print(model.summary())\n",
    "\n",
    "model.fit(X_train, y_train, epochs=55, verbose=1, batch_size=2048)\n"
   ]
  },
  {
   "cell_type": "code",
   "execution_count": 33,
   "id": "5431f7e0-46fd-4c30-92f4-c0d08c26ed94",
   "metadata": {},
   "outputs": [],
   "source": [
    "pred = model.predict(X_test)"
   ]
  },
  {
   "cell_type": "code",
   "execution_count": 34,
   "id": "secure-source",
   "metadata": {},
   "outputs": [
    {
     "data": {
      "text/plain": [
       "22142"
      ]
     },
     "execution_count": 34,
     "metadata": {},
     "output_type": "execute_result"
    }
   ],
   "source": [
    "len(pred)"
   ]
  },
  {
   "cell_type": "code",
   "execution_count": 35,
   "id": "studied-afternoon",
   "metadata": {},
   "outputs": [],
   "source": [
    "y_pred = list()\n",
    "for p in pred:\n",
    "    y_pred.append(np.argmax(p))"
   ]
  },
  {
   "cell_type": "code",
   "execution_count": 36,
   "id": "noted-consistency",
   "metadata": {},
   "outputs": [
    {
     "data": {
      "text/plain": [
       "0.19253003342064853"
      ]
     },
     "execution_count": 36,
     "metadata": {},
     "output_type": "execute_result"
    }
   ],
   "source": [
    "accuracy_score(y_test, y_pred)"
   ]
  },
  {
   "cell_type": "code",
   "execution_count": null,
   "id": "stunning-responsibility",
   "metadata": {},
   "outputs": [],
   "source": [
    "model.save_weights('../models/model.h5')"
   ]
  },
  {
   "cell_type": "markdown",
   "id": "f26ba1e6-42cd-4889-aa28-f659045395d4",
   "metadata": {},
   "source": [
    "The results obtained can be interpreted in different ways, but the metric shows that certain dependencies are found"
   ]
  },
  {
   "cell_type": "code",
   "execution_count": null,
   "id": "f3d8ccf3-8940-4e5d-a67b-401500bde227",
   "metadata": {},
   "outputs": [],
   "source": []
  }
 ],
 "metadata": {
  "kernelspec": {
   "display_name": "Python 3",
   "language": "python",
   "name": "python3"
  },
  "language_info": {
   "codemirror_mode": {
    "name": "ipython",
    "version": 3
   },
   "file_extension": ".py",
   "mimetype": "text/x-python",
   "name": "python",
   "nbconvert_exporter": "python",
   "pygments_lexer": "ipython3",
   "version": "3.7.12"
  }
 },
 "nbformat": 4,
 "nbformat_minor": 5
}
