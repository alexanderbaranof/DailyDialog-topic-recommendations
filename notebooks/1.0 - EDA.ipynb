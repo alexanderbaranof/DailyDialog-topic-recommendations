{
 "cells": [
  {
   "cell_type": "markdown",
   "id": "reflected-summer",
   "metadata": {},
   "source": [
    "# Imports"
   ]
  },
  {
   "cell_type": "code",
   "execution_count": 64,
   "id": "honest-calcium",
   "metadata": {},
   "outputs": [],
   "source": [
    "import os\n",
    "import sys\n",
    "import zipfile\n",
    "\n",
    "import seaborn as sns\n",
    "import pandas as pd\n",
    "import numpy as np\n",
    "import spacy\n",
    "from tqdm import tqdm"
   ]
  },
  {
   "cell_type": "code",
   "execution_count": 10,
   "id": "ab121407-9e6a-4ef1-bf52-340e1cf64282",
   "metadata": {},
   "outputs": [],
   "source": [
    "PROJECT_PATH = '/Users/alexanderbaranof/Documents/dailydialog-topic-recommendations/'"
   ]
  },
  {
   "cell_type": "code",
   "execution_count": 11,
   "id": "f8035d7d-0d7a-4487-a5d7-2b04c736ecb7",
   "metadata": {},
   "outputs": [],
   "source": [
    "sys.path.append(os.path.join(PROJECT_PATH, 'src'))"
   ]
  },
  {
   "cell_type": "code",
   "execution_count": 12,
   "id": "beaeb48d-79fd-4120-ad68-12d8e8e2eb43",
   "metadata": {},
   "outputs": [],
   "source": [
    "from data.utils import download"
   ]
  },
  {
   "cell_type": "markdown",
   "id": "overall-january",
   "metadata": {},
   "source": [
    "# Methods"
   ]
  },
  {
   "cell_type": "code",
   "execution_count": null,
   "id": "formal-knife",
   "metadata": {},
   "outputs": [],
   "source": []
  },
  {
   "cell_type": "markdown",
   "id": "pretty-velvet",
   "metadata": {},
   "source": [
    "# Constants"
   ]
  },
  {
   "cell_type": "code",
   "execution_count": 19,
   "id": "dynamic-barrel",
   "metadata": {},
   "outputs": [],
   "source": [
    "CORPUS_NAME = 'ijcnlp_dailydialog'\n",
    "CORPUS_ZIP = 'ijcnlp_dailydialog.zip'"
   ]
  },
  {
   "cell_type": "markdown",
   "id": "e8e5cab4-ed62-4660-b69e-24bc30c41c53",
   "metadata": {},
   "source": [
    "# Checking data"
   ]
  },
  {
   "cell_type": "code",
   "execution_count": 18,
   "id": "f71fb82c-1c84-4205-ade6-d9556392a52d",
   "metadata": {},
   "outputs": [
    {
     "name": "stdout",
     "output_type": "stream",
     "text": [
      "/Users/alexanderbaranof/Documents/dailydialog-topic-recommendations/data/raw/ijcnlp_dailydialog\n"
     ]
    }
   ],
   "source": [
    "# checking that directory exist \n",
    "corpus_dir = os.path.join(PROJECT_PATH, os.path.join('data/raw/', CORPUS_NAME))\n",
    "print(corpus_dir)"
   ]
  },
  {
   "cell_type": "code",
   "execution_count": 20,
   "id": "cbc17941-c8f1-445d-9d1a-89116988f1b2",
   "metadata": {},
   "outputs": [
    {
     "name": "stdout",
     "output_type": "stream",
     "text": [
      "/Users/alexanderbaranof/Documents/dailydialog-topic-recommendations/data/raw/ijcnlp_dailydialog.zip\n"
     ]
    }
   ],
   "source": [
    "corpus_zip_dir = os.path.join(PROJECT_PATH, os.path.join('data/raw/', CORPUS_ZIP))\n",
    "print(corpus_zip_dir)"
   ]
  },
  {
   "cell_type": "code",
   "execution_count": 27,
   "id": "11893052-a560-44f6-9548-ffbb2c4e4dc8",
   "metadata": {},
   "outputs": [
    {
     "name": "stdout",
     "output_type": "stream",
     "text": [
      "Corpus is aviable!\n"
     ]
    }
   ],
   "source": [
    "if os.path.exists(corpus_dir):\n",
    "    print('Corpus is aviable!')\n",
    "else:\n",
    "    if os.path.exists(corpus_zip_dir):\n",
    "        print('Only zip file aviable!')\n",
    "        with zipfile.ZipFile(corpus_zip_dir, 'r') as zip_ref:\n",
    "            zip_ref.extractall('../data/raw/')\n",
    "        print('Unziped!')\n",
    "    else:\n",
    "        download(url='http://yanran.li/files/ijcnlp_dailydialog.zip',\n",
    "                 file_name='../data/raw/ijcnlp_dailydialog.zip')\n",
    "        with zipfile.ZipFile(corpus_zip_dir, 'r') as zip_ref:\n",
    "            zip_ref.extractall('../data/raw/')\n",
    "        print('Unziped!')"
   ]
  },
  {
   "cell_type": "markdown",
   "id": "810eab7b-b489-42ef-ab1d-798576bd3d68",
   "metadata": {},
   "source": [
    "# Lets do EDA"
   ]
  },
  {
   "cell_type": "code",
   "execution_count": 29,
   "id": "bdd3f4ca-5d28-4fab-8b0f-54d9ce6938be",
   "metadata": {},
   "outputs": [],
   "source": [
    "corpus = open(os.path.join(corpus_dir, 'dialogues_text.txt'), 'r')\n",
    "corpus = corpus.read()\n",
    "corpus = corpus.split('\\n')"
   ]
  },
  {
   "cell_type": "code",
   "execution_count": 34,
   "id": "19005673-7169-40db-8350-ef19cdff232d",
   "metadata": {},
   "outputs": [
    {
     "name": "stdout",
     "output_type": "stream",
     "text": [
      "Corpus len is 13119\n"
     ]
    }
   ],
   "source": [
    "print('Corpus len is', len(corpus))"
   ]
  },
  {
   "cell_type": "code",
   "execution_count": 35,
   "id": "d0337ec9-cb31-418d-967c-3a719d0e8fb8",
   "metadata": {},
   "outputs": [
    {
     "data": {
      "text/plain": [
       "\"The kitchen stinks . __eou__ I'll throw out the garbage . __eou__\""
      ]
     },
     "execution_count": 35,
     "metadata": {},
     "output_type": "execute_result"
    }
   ],
   "source": [
    "corpus[0]"
   ]
  },
  {
   "cell_type": "code",
   "execution_count": 36,
   "id": "8ebb4cb5-d013-40c3-bf0d-419f81f1f844",
   "metadata": {},
   "outputs": [],
   "source": [
    "corpus = [dialog.split('__eou__') for dialog in corpus]"
   ]
  },
  {
   "cell_type": "code",
   "execution_count": 37,
   "id": "32017051-cc66-429b-b4cb-11ae1c2e9ef9",
   "metadata": {},
   "outputs": [
    {
     "data": {
      "text/plain": [
       "['The kitchen stinks . ', \" I'll throw out the garbage . \", '']"
      ]
     },
     "execution_count": 37,
     "metadata": {},
     "output_type": "execute_result"
    }
   ],
   "source": [
    "corpus[0]"
   ]
  },
  {
   "cell_type": "markdown",
   "id": "f5430591-07f8-48c1-9563-75dd809ede36",
   "metadata": {},
   "source": [
    "## One of the tasks is to create a stop list of noun chunks phrases"
   ]
  },
  {
   "cell_type": "code",
   "execution_count": null,
   "id": "0c46a4a8-bab2-4842-8ab7-3e98c847c578",
   "metadata": {},
   "outputs": [],
   "source": [
    "!python3.7 -m spacy download en_core_web_sm"
   ]
  },
  {
   "cell_type": "code",
   "execution_count": 44,
   "id": "4b04d0b3-62bd-44ee-83e9-9ce8e3af18df",
   "metadata": {},
   "outputs": [],
   "source": [
    "parser = spacy.load('en_core_web_sm')"
   ]
  },
  {
   "cell_type": "code",
   "execution_count": 47,
   "id": "eadd395a-14b1-4e75-9310-d216ab4f894f",
   "metadata": {},
   "outputs": [
    {
     "name": "stderr",
     "output_type": "stream",
     "text": [
      "100%|██████████| 13119/13119 [08:06<00:00, 26.96it/s]\n"
     ]
    }
   ],
   "source": [
    "noun_chunks = list()\n",
    "\n",
    "for dialog in tqdm(corpus):\n",
    "    for phrase in dialog:\n",
    "        document = parser(phrase)\n",
    "        for nc in document.noun_chunks:\n",
    "            noun_chunks.append(nc)"
   ]
  },
  {
   "cell_type": "code",
   "execution_count": 48,
   "id": "0be36af9-bbd2-4dbd-abee-182c375ceb85",
   "metadata": {},
   "outputs": [
    {
     "data": {
      "text/plain": [
       "[I, the garbage, So Dick, some coffee]"
      ]
     },
     "execution_count": 48,
     "metadata": {},
     "output_type": "execute_result"
    }
   ],
   "source": [
    "noun_chunks[:4]"
   ]
  },
  {
   "cell_type": "code",
   "execution_count": 50,
   "id": "38e7a556-e4a1-449e-acd9-41b8d9265914",
   "metadata": {},
   "outputs": [
    {
     "name": "stdout",
     "output_type": "stream",
     "text": [
      "340685\n"
     ]
    }
   ],
   "source": [
    "print(len(noun_chunks))"
   ]
  },
  {
   "cell_type": "code",
   "execution_count": 57,
   "id": "e0225a57-3369-46dd-a3ef-1e881fe65888",
   "metadata": {},
   "outputs": [],
   "source": [
    "# apply lower-case as a simple preprocessing\n",
    "noun_chunks = [nc.text.lower() for nc in noun_chunks]"
   ]
  },
  {
   "cell_type": "code",
   "execution_count": 58,
   "id": "d5dc3c6e-b668-4414-a6d2-abaf836afc65",
   "metadata": {},
   "outputs": [],
   "source": [
    "noun_chunks = pd.Series(noun_chunks)"
   ]
  },
  {
   "cell_type": "code",
   "execution_count": 62,
   "id": "4e1888d0-f5f6-49f1-9a27-800f67c07e01",
   "metadata": {},
   "outputs": [],
   "source": [
    "df_nc = pd.DataFrame(noun_chunks.value_counts())\n",
    "df_nc = df_nc.rename(columns={0:'word_count'})"
   ]
  },
  {
   "cell_type": "code",
   "execution_count": 63,
   "id": "e51423bc-c571-4907-8df0-583cdd87b303",
   "metadata": {},
   "outputs": [
    {
     "data": {
      "text/html": [
       "<div>\n",
       "<style scoped>\n",
       "    .dataframe tbody tr th:only-of-type {\n",
       "        vertical-align: middle;\n",
       "    }\n",
       "\n",
       "    .dataframe tbody tr th {\n",
       "        vertical-align: top;\n",
       "    }\n",
       "\n",
       "    .dataframe thead th {\n",
       "        text-align: right;\n",
       "    }\n",
       "</style>\n",
       "<table border=\"1\" class=\"dataframe\">\n",
       "  <thead>\n",
       "    <tr style=\"text-align: right;\">\n",
       "      <th></th>\n",
       "      <th>word_count</th>\n",
       "    </tr>\n",
       "  </thead>\n",
       "  <tbody>\n",
       "    <tr>\n",
       "      <th>i</th>\n",
       "      <td>52433</td>\n",
       "    </tr>\n",
       "    <tr>\n",
       "      <th>you</th>\n",
       "      <td>47824</td>\n",
       "    </tr>\n",
       "    <tr>\n",
       "      <th>it</th>\n",
       "      <td>23881</td>\n",
       "    </tr>\n",
       "    <tr>\n",
       "      <th>we</th>\n",
       "      <td>9948</td>\n",
       "    </tr>\n",
       "    <tr>\n",
       "      <th>me</th>\n",
       "      <td>8298</td>\n",
       "    </tr>\n",
       "    <tr>\n",
       "      <th>...</th>\n",
       "      <td>...</td>\n",
       "    </tr>\n",
       "    <tr>\n",
       "      <th>aristocratic women</th>\n",
       "      <td>1</td>\n",
       "    </tr>\n",
       "    <tr>\n",
       "      <th>s m i t h</th>\n",
       "      <td>1</td>\n",
       "    </tr>\n",
       "    <tr>\n",
       "      <th>judgement</th>\n",
       "      <td>1</td>\n",
       "    </tr>\n",
       "    <tr>\n",
       "      <th>so many shops</th>\n",
       "      <td>1</td>\n",
       "    </tr>\n",
       "    <tr>\n",
       "      <th>three thousand yuan</th>\n",
       "      <td>1</td>\n",
       "    </tr>\n",
       "  </tbody>\n",
       "</table>\n",
       "<p>53544 rows × 1 columns</p>\n",
       "</div>"
      ],
      "text/plain": [
       "                     word_count\n",
       "i                         52433\n",
       "you                       47824\n",
       "it                        23881\n",
       "we                         9948\n",
       "me                         8298\n",
       "...                         ...\n",
       "aristocratic women            1\n",
       " s m i t h                    1\n",
       "judgement                     1\n",
       "so many shops                 1\n",
       "three thousand yuan           1\n",
       "\n",
       "[53544 rows x 1 columns]"
      ]
     },
     "execution_count": 63,
     "metadata": {},
     "output_type": "execute_result"
    }
   ],
   "source": [
    "df_nc"
   ]
  },
  {
   "cell_type": "code",
   "execution_count": 82,
   "id": "4adc8202-150c-46e1-8222-2bc22233ca77",
   "metadata": {},
   "outputs": [
    {
     "name": "stdout",
     "output_type": "stream",
     "text": [
      "quantile:\n",
      "0.90 5.0\n",
      "0.15 1.0\n"
     ]
    }
   ],
   "source": [
    "print('quantile:')\n",
    "print('0.90', df_nc['word_count'].quantile(q=0.90))\n",
    "print('0.15', df_nc['word_count'].quantile(q=0.15))"
   ]
  },
  {
   "cell_type": "code",
   "execution_count": 83,
   "id": "50e50aa7-25f4-418a-b3cb-c00d9627044a",
   "metadata": {},
   "outputs": [
    {
     "data": {
      "image/png": "[encoded data removed]",
      "text/plain": [
       "<Figure size 432x288 with 1 Axes>"
      ]
     },
     "metadata": {
      "needs_background": "light"
     },
     "output_type": "display_data"
    }
   ],
   "source": [
    "ax = sns.boxplot(x=df_nc[\"word_count\"])"
   ]
  },
  {
   "cell_type": "code",
   "execution_count": 85,
   "id": "fffbe20f-17a1-42c8-95d8-a22e2316f704",
   "metadata": {},
   "outputs": [],
   "source": [
    "sdf_nc = df_nc[(df_nc.word_count < 5)&(df_nc.word_count > 1)]"
   ]
  },
  {
   "cell_type": "code",
   "execution_count": 86,
   "id": "2d4f3014-3e5b-44a1-8427-32eaa9bfcdf1",
   "metadata": {},
   "outputs": [
    {
     "data": {
      "text/plain": [
       "16109"
      ]
     },
     "execution_count": 86,
     "metadata": {},
     "output_type": "execute_result"
    }
   ],
   "source": [
    "len(sdf_nc)"
   ]
  },
  {
   "cell_type": "code",
   "execution_count": 87,
   "id": "d802cf58-1008-4e86-8dff-6357f9601b00",
   "metadata": {},
   "outputs": [
    {
     "data": {
      "image/png": "[encoded data removed]",
      "text/plain": [
       "<Figure size 432x288 with 1 Axes>"
      ]
     },
     "metadata": {
      "needs_background": "light"
     },
     "output_type": "display_data"
    }
   ],
   "source": [
    "ax = sns.boxplot(x=sdf_nc[\"word_count\"])"
   ]
  },
  {
   "cell_type": "markdown",
   "id": "80580fdb-3ec0-48c1-b7ee-4b86419dab70",
   "metadata": {},
   "source": [
    "Such data is much better"
   ]
  },
  {
   "cell_type": "markdown",
   "id": "42f5d7ee-7eae-490d-b190-f9c409c4c57a",
   "metadata": {},
   "source": [
    "But we need a stop list"
   ]
  },
  {
   "cell_type": "code",
   "execution_count": 91,
   "id": "be197601-4b07-4a52-aece-592ec8811b18",
   "metadata": {},
   "outputs": [],
   "source": [
    "bdf_nc = df_nc[(df_nc.word_count  >= 5)|(df_nc.word_count <= 1)]"
   ]
  },
  {
   "cell_type": "code",
   "execution_count": 93,
   "id": "925e0739-9d88-4bd6-9827-c67d2f53a204",
   "metadata": {},
   "outputs": [],
   "source": [
    "bdf_nc = bdf_nc.reset_index(drop=False)"
   ]
  },
  {
   "cell_type": "code",
   "execution_count": 94,
   "id": "cba0dcb3-6f66-44bb-9c45-3bedc768b901",
   "metadata": {},
   "outputs": [
    {
     "data": {
      "text/html": [
       "<div>\n",
       "<style scoped>\n",
       "    .dataframe tbody tr th:only-of-type {\n",
       "        vertical-align: middle;\n",
       "    }\n",
       "\n",
       "    .dataframe tbody tr th {\n",
       "        vertical-align: top;\n",
       "    }\n",
       "\n",
       "    .dataframe thead th {\n",
       "        text-align: right;\n",
       "    }\n",
       "</style>\n",
       "<table border=\"1\" class=\"dataframe\">\n",
       "  <thead>\n",
       "    <tr style=\"text-align: right;\">\n",
       "      <th></th>\n",
       "      <th>index</th>\n",
       "      <th>word_count</th>\n",
       "    </tr>\n",
       "  </thead>\n",
       "  <tbody>\n",
       "    <tr>\n",
       "      <th>0</th>\n",
       "      <td>i</td>\n",
       "      <td>52433</td>\n",
       "    </tr>\n",
       "    <tr>\n",
       "      <th>1</th>\n",
       "      <td>you</td>\n",
       "      <td>47824</td>\n",
       "    </tr>\n",
       "    <tr>\n",
       "      <th>2</th>\n",
       "      <td>it</td>\n",
       "      <td>23881</td>\n",
       "    </tr>\n",
       "    <tr>\n",
       "      <th>3</th>\n",
       "      <td>we</td>\n",
       "      <td>9948</td>\n",
       "    </tr>\n",
       "    <tr>\n",
       "      <th>4</th>\n",
       "      <td>me</td>\n",
       "      <td>8298</td>\n",
       "    </tr>\n",
       "  </tbody>\n",
       "</table>\n",
       "</div>"
      ],
      "text/plain": [
       "  index  word_count\n",
       "0     i       52433\n",
       "1   you       47824\n",
       "2    it       23881\n",
       "3    we        9948\n",
       "4    me        8298"
      ]
     },
     "execution_count": 94,
     "metadata": {},
     "output_type": "execute_result"
    }
   ],
   "source": [
    "bdf_nc.head(5)"
   ]
  },
  {
   "cell_type": "code",
   "execution_count": 95,
   "id": "08ec4d19-beb0-4028-a163-58f4b1888d7c",
   "metadata": {},
   "outputs": [
    {
     "data": {
      "text/html": [
       "<div>\n",
       "<style scoped>\n",
       "    .dataframe tbody tr th:only-of-type {\n",
       "        vertical-align: middle;\n",
       "    }\n",
       "\n",
       "    .dataframe tbody tr th {\n",
       "        vertical-align: top;\n",
       "    }\n",
       "\n",
       "    .dataframe thead th {\n",
       "        text-align: right;\n",
       "    }\n",
       "</style>\n",
       "<table border=\"1\" class=\"dataframe\">\n",
       "  <thead>\n",
       "    <tr style=\"text-align: right;\">\n",
       "      <th></th>\n",
       "      <th>index</th>\n",
       "      <th>word_count</th>\n",
       "    </tr>\n",
       "  </thead>\n",
       "  <tbody>\n",
       "    <tr>\n",
       "      <th>37430</th>\n",
       "      <td>aristocratic women</td>\n",
       "      <td>1</td>\n",
       "    </tr>\n",
       "    <tr>\n",
       "      <th>37431</th>\n",
       "      <td>s m i t h</td>\n",
       "      <td>1</td>\n",
       "    </tr>\n",
       "    <tr>\n",
       "      <th>37432</th>\n",
       "      <td>judgement</td>\n",
       "      <td>1</td>\n",
       "    </tr>\n",
       "    <tr>\n",
       "      <th>37433</th>\n",
       "      <td>so many shops</td>\n",
       "      <td>1</td>\n",
       "    </tr>\n",
       "    <tr>\n",
       "      <th>37434</th>\n",
       "      <td>three thousand yuan</td>\n",
       "      <td>1</td>\n",
       "    </tr>\n",
       "  </tbody>\n",
       "</table>\n",
       "</div>"
      ],
      "text/plain": [
       "                     index  word_count\n",
       "37430   aristocratic women           1\n",
       "37431            s m i t h           1\n",
       "37432            judgement           1\n",
       "37433        so many shops           1\n",
       "37434  three thousand yuan           1"
      ]
     },
     "execution_count": 95,
     "metadata": {},
     "output_type": "execute_result"
    }
   ],
   "source": [
    "bdf_nc.tail(5)"
   ]
  },
  {
   "cell_type": "code",
   "execution_count": 96,
   "id": "3708ded0-cc22-4e77-bf23-3ff83f10614b",
   "metadata": {},
   "outputs": [],
   "source": [
    "# save te result\n",
    "bdf_nc.to_csv('../data/processed/stoplist.csv')"
   ]
  },
  {
   "cell_type": "code",
   "execution_count": null,
   "id": "d9359b18-83e3-4314-956b-3014f47778e3",
   "metadata": {},
   "outputs": [],
   "source": []
  }
 ],
 "metadata": {
  "kernelspec": {
   "display_name": "Python 3",
   "language": "python",
   "name": "python3"
  },
  "language_info": {
   "codemirror_mode": {
    "name": "ipython",
    "version": 3
   },
   "file_extension": ".py",
   "mimetype": "text/x-python",
   "name": "python",
   "nbconvert_exporter": "python",
   "pygments_lexer": "ipython3",
   "version": "3.7.12"
  }
 },
 "nbformat": 4,
 "nbformat_minor": 5
}
