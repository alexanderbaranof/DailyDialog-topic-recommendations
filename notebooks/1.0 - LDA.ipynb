{
 "cells": [
  {
   "cell_type": "markdown",
   "id": "6f3156f0-45fe-46c9-ae14-7de7af68d5d9",
   "metadata": {},
   "source": [
    "# Imports"
   ]
  },
  {
   "cell_type": "code",
   "execution_count": 15,
   "id": "c5a4e2dd-2cc5-4a07-a0ba-8a7f8fbaec03",
   "metadata": {},
   "outputs": [],
   "source": [
    "import os\n",
    "import sys\n",
    "import zipfile\n",
    "from string import punctuation\n",
    "\n",
    "import seaborn as sns\n",
    "import pandas as pd\n",
    "import numpy as np\n",
    "import spacy\n",
    "from tqdm import tqdm\n",
    "import gensim\n",
    "from nltk.corpus import stopwords\n",
    "from pymorphy2 import MorphAnalyzer\n",
    "\n",
    "morph = MorphAnalyzer()\n",
    "\n",
    "\n",
    "PROJECT_PATH = '/Users/alexanderbaranof/Documents/dailydialog-topic-recommendations/'\n",
    "sys.path.append(os.path.join(PROJECT_PATH, 'src'))\n",
    "\n",
    "from data.utils import download"
   ]
  },
  {
   "cell_type": "markdown",
   "id": "31726bdc-2d43-4ac5-9786-a10a25f207b5",
   "metadata": {},
   "source": [
    "# Constants"
   ]
  },
  {
   "cell_type": "code",
   "execution_count": 2,
   "id": "9f8bcabf-0988-4ddd-80fe-81ca687388e4",
   "metadata": {},
   "outputs": [],
   "source": [
    "CORPUS_NAME = 'ijcnlp_dailydialog'\n",
    "CORPUS_ZIP = 'ijcnlp_dailydialog.zip'"
   ]
  },
  {
   "cell_type": "markdown",
   "id": "2aa0b479-dd57-4095-a4b1-0d58a49df2e7",
   "metadata": {},
   "source": [
    "# Methods"
   ]
  },
  {
   "cell_type": "code",
   "execution_count": 146,
   "id": "d4129a4a-aae8-490a-98c6-53a7cc1eddbb",
   "metadata": {},
   "outputs": [],
   "source": [
    "def preprocessing(text: str, nlp) -> str:\n",
    "    doc = nlp.make_doc(text)\n",
    "    normalized_text = [word.text.strip(punctuation) for word in doc]\n",
    "    normalized_text = [word.lower() for word in normalized_text]\n",
    "    normalized_text = [word.replace(' ', '') for word in normalized_text]\n",
    "    normalized_text = [word.replace('\\t', '') for word in normalized_text]\n",
    "    \n",
    "    nlp.Defaults.stop_words.add('yes')\n",
    "    nlp.Defaults.stop_words.add('like')\n",
    "    nlp.Defaults.stop_words.add('know')\n",
    "    nlp.Defaults.stop_words.add('think')\n",
    "    nlp.Defaults.stop_words.add('right')\n",
    "    nlp.Defaults.stop_words.add('oh')\n",
    "    nlp.Defaults.stop_words.add('thank')\n",
    "    nlp.Defaults.stop_words.add('good')\n",
    "    nlp.Defaults.stop_words.add('ok')\n",
    "    nlp.Defaults.stop_words.add('yeah')\n",
    "    \n",
    "\n",
    "    result_normalized_text = list()\n",
    "    for word in normalized_text:\n",
    "        if word not in nlp.Defaults.stop_words:\n",
    "            result_normalized_text.append(word)\n",
    "    result_normalized_text = ' '.join(result_normalized_text)\n",
    "    \n",
    "    return result_normalized_text.split()"
   ]
  },
  {
   "cell_type": "code",
   "execution_count": 185,
   "id": "6a3f2287-0468-43af-bd4f-e568c935115f",
   "metadata": {},
   "outputs": [],
   "source": [
    "def max_lda_topics(lda_topics):\n",
    "    return pd.DataFrame(lda_topics).sort_values([1], ascending=False)[0].iloc[0]"
   ]
  },
  {
   "cell_type": "markdown",
   "id": "f447b77a-2d3a-477c-bd87-5bb65c67a52c",
   "metadata": {},
   "source": [
    "# Checking data"
   ]
  },
  {
   "cell_type": "code",
   "execution_count": 147,
   "id": "20181a0d-c5aa-4ace-a849-cc28b2d1b52a",
   "metadata": {},
   "outputs": [
    {
     "name": "stdout",
     "output_type": "stream",
     "text": [
      "/Users/alexanderbaranof/Documents/dailydialog-topic-recommendations/data/raw/ijcnlp_dailydialog\n",
      "/Users/alexanderbaranof/Documents/dailydialog-topic-recommendations/data/raw/ijcnlp_dailydialog.zip\n",
      "Corpus is aviable!\n"
     ]
    }
   ],
   "source": [
    "# checking that directory exist \n",
    "corpus_dir = os.path.join(PROJECT_PATH, os.path.join('data/raw/', CORPUS_NAME))\n",
    "print(corpus_dir)\n",
    "\n",
    "corpus_zip_dir = os.path.join(PROJECT_PATH, os.path.join('data/raw/', CORPUS_ZIP))\n",
    "print(corpus_zip_dir)\n",
    "\n",
    "if os.path.exists(corpus_dir):\n",
    "    print('Corpus is aviable!')\n",
    "else:\n",
    "    if os.path.exists(corpus_zip_dir):\n",
    "        print('Only zip file aviable!')\n",
    "        with zipfile.ZipFile(corpus_zip_dir, 'r') as zip_ref:\n",
    "            zip_ref.extractall('../data/raw/')\n",
    "        print('Unziped!')\n",
    "    else:\n",
    "        download(url='http://yanran.li/files/ijcnlp_dailydialog.zip',\n",
    "                 file_name='../data/raw/ijcnlp_dailydialog.zip')\n",
    "        with zipfile.ZipFile(corpus_zip_dir, 'r') as zip_ref:\n",
    "            zip_ref.extractall('../data/raw/')\n",
    "        print('Unziped!')"
   ]
  },
  {
   "cell_type": "markdown",
   "id": "b418b1ae-d1ce-4a66-8ddf-62a7fac935fe",
   "metadata": {},
   "source": [
    "# Lets build LDA model for select one topic"
   ]
  },
  {
   "cell_type": "code",
   "execution_count": 167,
   "id": "42383313-168f-480d-91f1-aac198229341",
   "metadata": {},
   "outputs": [],
   "source": [
    "corpus = open(os.path.join(corpus_dir, 'dialogues_text.txt'), 'r')\n",
    "corpus = corpus.read()\n",
    "corpus = corpus.split('\\n')\n",
    "\n",
    "corpus = [dialog.split('__eou__') for dialog in corpus]"
   ]
  },
  {
   "cell_type": "code",
   "execution_count": 168,
   "id": "6ad4cc48-0030-40be-83c9-b18892e33cb9",
   "metadata": {},
   "outputs": [],
   "source": [
    "# load stop list for chunks phrases\n",
    "\n",
    "bdf_nc = pd.read_csv('../data/processed/stoplist.csv', index_col=0)"
   ]
  },
  {
   "cell_type": "code",
   "execution_count": 169,
   "id": "38254f3b-b419-41f6-82b4-d506875412d8",
   "metadata": {},
   "outputs": [],
   "source": [
    "corpus = [' '.join(doc) for doc in corpus]"
   ]
  },
  {
   "cell_type": "code",
   "execution_count": 170,
   "id": "f3b49bf5-b747-4f74-ac68-24afb5cc0acc",
   "metadata": {},
   "outputs": [
    {
     "data": {
      "text/plain": [
       "\"The kitchen stinks .   I'll throw out the garbage .  \""
      ]
     },
     "execution_count": 170,
     "metadata": {},
     "output_type": "execute_result"
    }
   ],
   "source": [
    "corpus[0]"
   ]
  },
  {
   "cell_type": "code",
   "execution_count": 171,
   "id": "91c40c7a-457a-4677-b184-9e15a4b894f6",
   "metadata": {},
   "outputs": [],
   "source": [
    "nlp = spacy.load('en_core_web_sm') "
   ]
  },
  {
   "cell_type": "code",
   "execution_count": 172,
   "id": "e2321a2a-4143-4c93-b43d-740cd908e204",
   "metadata": {},
   "outputs": [
    {
     "name": "stderr",
     "output_type": "stream",
     "text": [
      "100%|██████████| 13119/13119 [00:04<00:00, 3235.35it/s]\n"
     ]
    }
   ],
   "source": [
    "clear_corpus = list()\n",
    "for doc in tqdm(corpus):\n",
    "    clear_corpus.append(preprocessing(doc, nlp))"
   ]
  },
  {
   "cell_type": "code",
   "execution_count": 173,
   "id": "69276a0c-cae8-46db-a489-fa07327b28d6",
   "metadata": {},
   "outputs": [
    {
     "data": {
      "text/plain": [
       "['kitchen', 'stinks', 'll', 'throw', 'garbage']"
      ]
     },
     "execution_count": 173,
     "metadata": {},
     "output_type": "execute_result"
    }
   ],
   "source": [
    "clear_corpus[0]"
   ]
  },
  {
   "cell_type": "code",
   "execution_count": 174,
   "id": "431d364a-65a4-4f36-a81f-7454accb2f5c",
   "metadata": {},
   "outputs": [],
   "source": [
    "# nice :)"
   ]
  },
  {
   "cell_type": "code",
   "execution_count": 175,
   "id": "11929960-d1c9-4791-a52a-d02317b1bcad",
   "metadata": {},
   "outputs": [],
   "source": [
    "ph = gensim.models.Phrases(clear_corpus, scoring='npmi', threshold=0.1)\n",
    "#p = gensim.models.phrases.Phraser(ph)\n",
    "ngrammed_texts = ph[clear_corpus]"
   ]
  },
  {
   "cell_type": "code",
   "execution_count": 176,
   "id": "f0e0ed20-2176-4207-94fc-8d2b4ab1f09d",
   "metadata": {},
   "outputs": [
    {
     "data": {
      "text/plain": [
       "['kitchen', 'stinks', 'll_throw', 'garbage']"
      ]
     },
     "execution_count": 176,
     "metadata": {},
     "output_type": "execute_result"
    }
   ],
   "source": [
    "ngrammed_texts[0]"
   ]
  },
  {
   "cell_type": "code",
   "execution_count": 177,
   "id": "2f591ef6-3605-4e5c-be31-3a15090faba9",
   "metadata": {},
   "outputs": [],
   "source": [
    "dictinary = gensim.corpora.Dictionary(ngrammed_texts)"
   ]
  },
  {
   "cell_type": "code",
   "execution_count": 178,
   "id": "d2e483df-6bf5-47b0-9dc4-a62b469dc0eb",
   "metadata": {},
   "outputs": [],
   "source": [
    "dictinary.filter_extremes(no_above=0.85, no_below=10)\n",
    "dictinary.compactify()"
   ]
  },
  {
   "cell_type": "code",
   "execution_count": 179,
   "id": "1322ef7c-78a6-4f6a-b4e3-5a5057643c12",
   "metadata": {},
   "outputs": [
    {
     "name": "stdout",
     "output_type": "stream",
     "text": [
      "Dictionary(5333 unique tokens: ['garbage', 'kitchen', 'cigarette', 'coffee', 'come']...)\n"
     ]
    }
   ],
   "source": [
    "print(dictinary)"
   ]
  },
  {
   "cell_type": "code",
   "execution_count": 180,
   "id": "bf879dd3-a143-4b66-91ce-94d3c53b6b3a",
   "metadata": {},
   "outputs": [],
   "source": [
    "gensim_corpus = [dictinary.doc2bow(text) for text in ngrammed_texts]"
   ]
  },
  {
   "cell_type": "code",
   "execution_count": 181,
   "id": "9747d1ea-eb40-43cf-9880-08e689a8246d",
   "metadata": {},
   "outputs": [
    {
     "data": {
      "text/plain": [
       "13119"
      ]
     },
     "execution_count": 181,
     "metadata": {},
     "output_type": "execute_result"
    }
   ],
   "source": [
    "len(gensim_corpus)"
   ]
  },
  {
   "cell_type": "code",
   "execution_count": 182,
   "id": "cd5656d7-a00f-4d12-b936-1c37dc80441b",
   "metadata": {},
   "outputs": [],
   "source": [
    "lda = gensim.models.LdaMulticore(gensim_corpus, 5, id2word=dictinary, passes=10)"
   ]
  },
  {
   "cell_type": "code",
   "execution_count": 183,
   "id": "aeee1c02-5a5f-45be-a868-42d28b53305b",
   "metadata": {},
   "outputs": [
    {
     "data": {
      "text/plain": [
       "[(0,\n",
       "  '0.046*\"s\" + 0.008*\"need\" + 0.008*\"going\" + 0.008*\"time\" + 0.007*\"want\" + 0.007*\"ll\" + 0.005*\"sure\" + 0.005*\"let_s\" + 0.004*\"m\" + 0.004*\"look\"'),\n",
       " (1,\n",
       "  '0.044*\"’_s\" + 0.020*\"’_m\" + 0.020*\"t\" + 0.015*\"don_’\" + 0.011*\"’_ll\" + 0.008*\"s\" + 0.008*\"’\" + 0.007*\"’_ve\" + 0.007*\"’_t\" + 0.007*\"sure\"'),\n",
       " (2,\n",
       "  '0.035*\"s\" + 0.010*\"sir\" + 0.009*\"want\" + 0.008*\"m\" + 0.006*\"ll\" + 0.006*\"sure\" + 0.006*\"thanks\" + 0.004*\"time\" + 0.004*\"d\" + 0.004*\"way\"'),\n",
       " (3,\n",
       "  '0.019*\"s\" + 0.008*\"company\" + 0.007*\"work\" + 0.007*\"job\" + 0.005*\"people\" + 0.005*\"time\" + 0.005*\"course\" + 0.004*\"tell\" + 0.004*\"sure\" + 0.004*\"business\"'),\n",
       " (4,\n",
       "  '0.016*\"s\" + 0.011*\"time\" + 0.008*\"’_s\" + 0.008*\"ll\" + 0.006*\"m\" + 0.006*\"t\" + 0.006*\"work\" + 0.005*\"morning\" + 0.005*\"sorry\" + 0.004*\"look\"')]"
      ]
     },
     "execution_count": 183,
     "metadata": {},
     "output_type": "execute_result"
    }
   ],
   "source": [
    "lda.print_topics()"
   ]
  },
  {
   "cell_type": "markdown",
   "id": "3011cd57-3bb1-4e23-ab05-8f872254b057",
   "metadata": {},
   "source": [
    "Topic 3 is good. Lets use it."
   ]
  },
  {
   "cell_type": "code",
   "execution_count": 189,
   "id": "cb01d7ff-afa9-4c5f-8197-2ffd5a604517",
   "metadata": {},
   "outputs": [
    {
     "name": "stderr",
     "output_type": "stream",
     "text": [
      "100%|██████████| 13119/13119 [00:13<00:00, 948.94it/s] \n"
     ]
    }
   ],
   "source": [
    "labels = list()\n",
    "for text in tqdm(gensim_corpus):\n",
    "    labels.append(max_lda_topics(lda.get_document_topics(text, minimum_probability=0.0)))"
   ]
  },
  {
   "cell_type": "code",
   "execution_count": 191,
   "id": "548fdd4c-6df6-4056-8e38-72c0a0ac8194",
   "metadata": {},
   "outputs": [
    {
     "data": {
      "text/plain": [
       "0    3253\n",
       "2    2947\n",
       "1    2558\n",
       "3    2242\n",
       "4    2119\n",
       "dtype: int64"
      ]
     },
     "execution_count": 191,
     "metadata": {},
     "output_type": "execute_result"
    }
   ],
   "source": [
    "pd.Series(labels).value_counts()"
   ]
  },
  {
   "cell_type": "code",
   "execution_count": 192,
   "id": "2eaf52f5-8ccc-4ec4-ba99-26f354ad6b1b",
   "metadata": {},
   "outputs": [],
   "source": [
    "result_data = pd.DataFrame()\n",
    "result_data['corpus'] = corpus\n",
    "result_data['label'] = labels"
   ]
  },
  {
   "cell_type": "code",
   "execution_count": 193,
   "id": "f2d31825-8f9b-4e65-9b56-81e83ee3efc0",
   "metadata": {},
   "outputs": [
    {
     "data": {
      "text/html": [
       "<div>\n",
       "<style scoped>\n",
       "    .dataframe tbody tr th:only-of-type {\n",
       "        vertical-align: middle;\n",
       "    }\n",
       "\n",
       "    .dataframe tbody tr th {\n",
       "        vertical-align: top;\n",
       "    }\n",
       "\n",
       "    .dataframe thead th {\n",
       "        text-align: right;\n",
       "    }\n",
       "</style>\n",
       "<table border=\"1\" class=\"dataframe\">\n",
       "  <thead>\n",
       "    <tr style=\"text-align: right;\">\n",
       "      <th></th>\n",
       "      <th>corpus</th>\n",
       "      <th>label</th>\n",
       "    </tr>\n",
       "  </thead>\n",
       "  <tbody>\n",
       "    <tr>\n",
       "      <th>0</th>\n",
       "      <td>The kitchen stinks .   I'll throw out the garb...</td>\n",
       "      <td>0</td>\n",
       "    </tr>\n",
       "    <tr>\n",
       "      <th>1</th>\n",
       "      <td>So Dick , how about getting some coffee for to...</td>\n",
       "      <td>1</td>\n",
       "    </tr>\n",
       "    <tr>\n",
       "      <th>2</th>\n",
       "      <td>Are things still going badly with your housegu...</td>\n",
       "      <td>1</td>\n",
       "    </tr>\n",
       "    <tr>\n",
       "      <th>3</th>\n",
       "      <td>Would you mind waiting a while ?   Well , how ...</td>\n",
       "      <td>4</td>\n",
       "    </tr>\n",
       "    <tr>\n",
       "      <th>4</th>\n",
       "      <td>Are you going to the annual party ? I can give...</td>\n",
       "      <td>0</td>\n",
       "    </tr>\n",
       "    <tr>\n",
       "      <th>...</th>\n",
       "      <td>...</td>\n",
       "      <td>...</td>\n",
       "    </tr>\n",
       "    <tr>\n",
       "      <th>13114</th>\n",
       "      <td>Lindsay Tipping gave me your name as a referen...</td>\n",
       "      <td>3</td>\n",
       "    </tr>\n",
       "    <tr>\n",
       "      <th>13115</th>\n",
       "      <td>The consignments of chemical instruments have ...</td>\n",
       "      <td>3</td>\n",
       "    </tr>\n",
       "    <tr>\n",
       "      <th>13116</th>\n",
       "      <td>good morning . How can I help you ?   I'd like...</td>\n",
       "      <td>1</td>\n",
       "    </tr>\n",
       "    <tr>\n",
       "      <th>13117</th>\n",
       "      <td>May I ask you a few questions about insurance ...</td>\n",
       "      <td>1</td>\n",
       "    </tr>\n",
       "    <tr>\n",
       "      <th>13118</th>\n",
       "      <td></td>\n",
       "      <td>0</td>\n",
       "    </tr>\n",
       "  </tbody>\n",
       "</table>\n",
       "<p>13119 rows × 2 columns</p>\n",
       "</div>"
      ],
      "text/plain": [
       "                                                  corpus  label\n",
       "0      The kitchen stinks .   I'll throw out the garb...      0\n",
       "1      So Dick , how about getting some coffee for to...      1\n",
       "2      Are things still going badly with your housegu...      1\n",
       "3      Would you mind waiting a while ?   Well , how ...      4\n",
       "4      Are you going to the annual party ? I can give...      0\n",
       "...                                                  ...    ...\n",
       "13114  Lindsay Tipping gave me your name as a referen...      3\n",
       "13115  The consignments of chemical instruments have ...      3\n",
       "13116  good morning . How can I help you ?   I'd like...      1\n",
       "13117  May I ask you a few questions about insurance ...      1\n",
       "13118                                                         0\n",
       "\n",
       "[13119 rows x 2 columns]"
      ]
     },
     "execution_count": 193,
     "metadata": {},
     "output_type": "execute_result"
    }
   ],
   "source": [
    "result_data"
   ]
  },
  {
   "cell_type": "code",
   "execution_count": 195,
   "id": "02af4776-1161-48e3-baef-e955d922d1f7",
   "metadata": {},
   "outputs": [],
   "source": [
    "result_data[result_data.label == 3].to_csv('../data/processed/lda_results.csv')"
   ]
  },
  {
   "cell_type": "code",
   "execution_count": null,
   "id": "ace69820-27d1-4c19-9f7e-8013e7330282",
   "metadata": {},
   "outputs": [],
   "source": []
  }
 ],
 "metadata": {
  "kernelspec": {
   "display_name": "Python 3",
   "language": "python",
   "name": "python3"
  },
  "language_info": {
   "codemirror_mode": {
    "name": "ipython",
    "version": 3
   },
   "file_extension": ".py",
   "mimetype": "text/x-python",
   "name": "python",
   "nbconvert_exporter": "python",
   "pygments_lexer": "ipython3",
   "version": "3.7.12"
  }
 },
 "nbformat": 4,
 "nbformat_minor": 5
}
